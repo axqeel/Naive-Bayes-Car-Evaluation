{
  "nbformat": 4,
  "nbformat_minor": 0,
  "metadata": {
    "colab": {
      "provenance": []
    },
    "kernelspec": {
      "name": "python3",
      "display_name": "Python 3"
    },
    "language_info": {
      "name": "python"
    }
  },
  "cells": [
    {
      "cell_type": "code",
      "execution_count": 1,
      "metadata": {
        "id": "5G4RlF0iqovW"
      },
      "outputs": [],
      "source": [
        "import pandas as pd\n",
        "import numpy as np\n",
        "from sklearn.model_selection import train_test_split\n",
        "from sklearn.metrics import classification_report,accuracy_score\n",
        "from sklearn.naive_bayes import GaussianNB\n",
        "from sklearn.preprocessing import LabelEncoder"
      ]
    },
    {
      "cell_type": "code",
      "source": [
        "columns=['a','b','c','d','e','f','g']\n",
        "df=pd.read_csv(\"car.csv\",names=columns)\n",
        "label=LabelEncoder()\n",
        "for i in df.columns:\n",
        "  df[i]=label.fit_transform(df[i])\n",
        "print(df) #dataset is converted from words to numerals\n",
        "x=df.drop(columns=['g'])\n",
        "y=df['g']\n",
        "x_train,x_test,y_train,y_test=train_test_split(x,y,test_size=0.3,random_state=1)"
      ],
      "metadata": {
        "colab": {
          "base_uri": "https://localhost:8080/"
        },
        "id": "ti-WqWDOqszf",
        "outputId": "174adf0c-4381-4b0d-9c71-0c286bf3a6ab"
      },
      "execution_count": 4,
      "outputs": [
        {
          "output_type": "stream",
          "name": "stdout",
          "text": [
            "      a  b  c  d  e  f  g\n",
            "0     3  3  0  0  2  1  2\n",
            "1     3  3  0  0  2  2  2\n",
            "2     3  3  0  0  2  0  2\n",
            "3     3  3  0  0  1  1  2\n",
            "4     3  3  0  0  1  2  2\n",
            "...  .. .. .. .. .. .. ..\n",
            "1723  1  1  3  2  1  2  1\n",
            "1724  1  1  3  2  1  0  3\n",
            "1725  1  1  3  2  0  1  2\n",
            "1726  1  1  3  2  0  2  1\n",
            "1727  1  1  3  2  0  0  3\n",
            "\n",
            "[1728 rows x 7 columns]\n"
          ]
        }
      ]
    },
    {
      "cell_type": "code",
      "source": [
        "model=GaussianNB()\n",
        "model.fit(x_train,y_train)\n",
        "y_pred=model.predict(x_test)\n",
        "clas=classification_report(y_test,y_pred)\n",
        "print(clas)\n",
        "accu=accuracy_score(y_test,y_pred)\n",
        "print(\"accuracy score :{:.2f}\".format(accu*100))"
      ],
      "metadata": {
        "colab": {
          "base_uri": "https://localhost:8080/"
        },
        "id": "on-yzFxFq1Yo",
        "outputId": "54eab5e5-833f-402d-fcbf-5d31029de650"
      },
      "execution_count": 5,
      "outputs": [
        {
          "output_type": "stream",
          "name": "stdout",
          "text": [
            "              precision    recall  f1-score   support\n",
            "\n",
            "           0       0.68      0.12      0.20       111\n",
            "           1       0.00      0.00      0.00        22\n",
            "           2       0.84      0.86      0.85       368\n",
            "           3       0.14      1.00      0.25        18\n",
            "\n",
            "    accuracy                           0.67       519\n",
            "   macro avg       0.42      0.49      0.32       519\n",
            "weighted avg       0.75      0.67      0.65       519\n",
            "\n",
            "accuracy score :66.67\n"
          ]
        },
        {
          "output_type": "stream",
          "name": "stderr",
          "text": [
            "/usr/local/lib/python3.11/dist-packages/sklearn/metrics/_classification.py:1565: UndefinedMetricWarning: Precision is ill-defined and being set to 0.0 in labels with no predicted samples. Use `zero_division` parameter to control this behavior.\n",
            "  _warn_prf(average, modifier, f\"{metric.capitalize()} is\", len(result))\n",
            "/usr/local/lib/python3.11/dist-packages/sklearn/metrics/_classification.py:1565: UndefinedMetricWarning: Precision is ill-defined and being set to 0.0 in labels with no predicted samples. Use `zero_division` parameter to control this behavior.\n",
            "  _warn_prf(average, modifier, f\"{metric.capitalize()} is\", len(result))\n",
            "/usr/local/lib/python3.11/dist-packages/sklearn/metrics/_classification.py:1565: UndefinedMetricWarning: Precision is ill-defined and being set to 0.0 in labels with no predicted samples. Use `zero_division` parameter to control this behavior.\n",
            "  _warn_prf(average, modifier, f\"{metric.capitalize()} is\", len(result))\n"
          ]
        }
      ]
    }
  ]
}